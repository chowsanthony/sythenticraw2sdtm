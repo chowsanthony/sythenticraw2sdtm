{
 "cells": [
  {
   "cell_type": "code",
   "execution_count": null,
   "id": "dcac29dd",
   "metadata": {},
   "outputs": [],
   "source": [
    "%pip install duckdb\n",
    "%pip install pyarrow\n",
    "%pip install polars"
   ]
  },
  {
   "cell_type": "markdown",
   "id": "d26d0fe6",
   "metadata": {},
   "source": [
    "[DuckDB](https://duckdb.org) is an in-process SQL OLAP database management system designed for fast analytical query processing. It is lightweight, easy to use, and supports various data formats like JSON, Parquet, and CSV. \n",
    "\n",
    "I chose [DuckDB](https://duckdb.org/why_duckdb) because it provides high-performance SQL querying capabilities directly within Python, making it ideal for handling and analyzing structured data efficiently in-memory without the need for a separate database server. Its seamless integration with modern data formats and tools like Polars further enhances its utility for data workflows. Additionally, DuckDB can natively read columnar data and JSON hierarchical data, making it highly versatile for complex data structures."
   ]
  },
  {
   "cell_type": "code",
   "execution_count": 1,
   "id": "48527911",
   "metadata": {},
   "outputs": [],
   "source": [
    "import duckdb as db\n",
    "import polars as pl"
   ]
  },
  {
   "cell_type": "markdown",
   "id": "88501ffb",
   "metadata": {},
   "source": [
    "- Create an in-memory DuckDB database\n",
    "- Load the synthenic raw data in JSON format into the DuckDB database"
   ]
  },
  {
   "cell_type": "code",
   "execution_count": 2,
   "id": "41803a97",
   "metadata": {},
   "outputs": [
    {
     "data": {
      "text/plain": [
       "<duckdb.duckdb.DuckDBPyConnection at 0x24e7b4ab6f0>"
      ]
     },
     "execution_count": 2,
     "metadata": {},
     "output_type": "execute_result"
    }
   ],
   "source": [
    "conn = db.connect()\n",
    "conn.execute(\"CREATE TABLE synthetic_raw AS SELECT * FROM read_json_auto('synthetic_raw.json')\")"
   ]
  },
  {
   "cell_type": "markdown",
   "id": "893259f4",
   "metadata": {},
   "source": [
    "Output the inferred JSON schema."
   ]
  },
  {
   "cell_type": "code",
   "execution_count": 3,
   "id": "9405e7db",
   "metadata": {},
   "outputs": [
    {
     "name": "stdout",
     "output_type": "stream",
     "text": [
      "[('Patient ID', 'VARCHAR', 'YES', None, None, None), ('Survival time (days)', 'BIGINT', 'YES', None, None, None), ('Event (death: 1, alive: 0)', 'BIGINT', 'YES', None, None, None), ('Tumor size (cm)', 'DOUBLE', 'YES', None, None, None), ('Grade', 'BIGINT', 'YES', None, None, None), ('Stage (TNM 8th edition)', 'VARCHAR', 'YES', None, None, None), ('Type.Adjuvant', 'VARCHAR', 'YES', None, None, None), ('batch', 'BIGINT', 'YES', None, None, None), ('EGFR', 'VARCHAR', 'YES', None, None, None), ('KRAS', 'VARCHAR', 'YES', None, None, None), ('Usage', 'STRUCT(Cigarette VARCHAR, \"Pack per year\" DOUBLE)', 'YES', None, None, None), ('Demog', 'STRUCT(Age BIGINT, Sex VARCHAR)', 'YES', None, None, None)]\n"
     ]
    }
   ],
   "source": [
    "print(conn.execute(\"DESCRIBE SELECT * FROM read_json_auto('synthetic_raw.json')\").fetchall())"
   ]
  },
  {
   "cell_type": "code",
   "execution_count": 4,
   "id": "996811d7",
   "metadata": {},
   "outputs": [],
   "source": [
    "my_study = \"CureAll Rx\""
   ]
  },
  {
   "cell_type": "markdown",
   "id": "daba8104",
   "metadata": {},
   "source": [
    "Create an SDTM DM domain dataset as a polars dataframe. Notice how it recognizes JSONPath for object or key selection, e.g., `Demog.Age`."
   ]
  },
  {
   "cell_type": "code",
   "execution_count": 5,
   "id": "f314d2af",
   "metadata": {},
   "outputs": [],
   "source": [
    "sdtm_dm = conn.execute(f\"\"\"\n",
    "\tSELECT \n",
    "\t\t'{my_study}' AS STUDYID,\n",
    "\t\t'DM' AS DOMAIN,\n",
    "\t\t\"Patient ID\" AS USUBJID,\n",
    "\t\tDemog.Age AS AGE, \n",
    "\t\t'YEARS' AS AGEU, \n",
    "\t\tCASE Demog.Sex\n",
    "\t\t\tWHEN 'Female' THEN 'F' \n",
    "\t\t\tWHEN 'Male' THEN 'M' \n",
    "\t\tEND AS SEX \n",
    "\tFROM synthetic_raw\n",
    "\"\"\").pl()"
   ]
  },
  {
   "cell_type": "markdown",
   "id": "ff9d409d",
   "metadata": {},
   "source": [
    "Similarly, make one for SDTM SU."
   ]
  },
  {
   "cell_type": "code",
   "execution_count": 6,
   "id": "3dd294ef",
   "metadata": {},
   "outputs": [],
   "source": [
    "sdtm_su = conn.execute(f\"\"\"\n",
    "\tSELECT \n",
    "\t\t'{my_study}' AS STUDYID,\n",
    "\t\t'SU' AS DOMAIN,\n",
    "\t\t\"Patient ID\" AS USUBJID,\n",
    "\t\t1 AS SUSEQ,\n",
    "\t\t'CIGARETTES' AS SUTRT,\n",
    "\t\tUsage.\"Pack per year\" AS SUDOSE,\n",
    "\t\t'PACK' AS SUDOSU,\n",
    "\t\t'PER YEAR' AS SUDOSFRQ,\n",
    "\t\tCASE \n",
    "\t\t\tWHEN Usage.Cigarette = 'Never' THEN 'N' \n",
    "\t\tEND AS SUOCCUR,\n",
    "\t\tCASE \n",
    "\t\t\tWHEN Usage.Cigarette = 'Former' THEN 'BEFORE' \n",
    "\t\tEND AS SUSTRF,\n",
    "\t\tCASE \n",
    "\t\t\tWHEN Usage.Cigarette = 'Current' THEN 'ONGOING' \n",
    "\t\tEND AS SUENRF\n",
    "\tFROM synthetic_raw\n",
    "\"\"\").pl()"
   ]
  },
  {
   "cell_type": "code",
   "execution_count": 7,
   "id": "e7634394",
   "metadata": {},
   "outputs": [],
   "source": [
    "conn.close()"
   ]
  },
  {
   "cell_type": "code",
   "execution_count": 8,
   "id": "49771278",
   "metadata": {},
   "outputs": [],
   "source": [
    "sdtm_dm.write_csv(\"sdtm_dm.csv\")\n",
    "sdtm_su.write_csv(\"sdtm_su.csv\")"
   ]
  }
 ],
 "metadata": {
  "kernelspec": {
   "display_name": "3.10.11",
   "language": "python",
   "name": "python3"
  },
  "language_info": {
   "codemirror_mode": {
    "name": "ipython",
    "version": 3
   },
   "file_extension": ".py",
   "mimetype": "text/x-python",
   "name": "python",
   "nbconvert_exporter": "python",
   "pygments_lexer": "ipython3",
   "version": "3.10.11"
  }
 },
 "nbformat": 4,
 "nbformat_minor": 5
}
